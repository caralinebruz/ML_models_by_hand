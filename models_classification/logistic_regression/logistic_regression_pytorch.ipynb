{
 "cells": [
  {
   "cell_type": "markdown",
   "id": "335d2720",
   "metadata": {},
   "source": [
    "# About this implementation\n",
    "\n",
    "\n",
    "Might make most sense to continue to use sklearn for the test/train split because i dont know how it applies the random state if there is a difference in pytorch, and I want to compare my results between implementations\n"
   ]
  },
  {
   "cell_type": "markdown",
   "id": "8c8961f7",
   "metadata": {},
   "source": [
    "### Step 1: import the dataset and prepare the data"
   ]
  },
  {
   "cell_type": "code",
   "execution_count": 1,
   "id": "201c0c8e",
   "metadata": {},
   "outputs": [],
   "source": [
    "# use sklearn to import the dataset\n",
    "import numpy as np\n",
    "from sklearn import datasets\n",
    "from sklearn.model_selection import train_test_split\n",
    "from sklearn.preprocessing import StandardScaler"
   ]
  },
  {
   "cell_type": "code",
   "execution_count": 2,
   "id": "e809f5b9",
   "metadata": {},
   "outputs": [],
   "source": [
    "# load dataset\n",
    "dataset = datasets.load_breast_cancer()"
   ]
  },
  {
   "cell_type": "code",
   "execution_count": 3,
   "id": "4b7ace2c",
   "metadata": {},
   "outputs": [
    {
     "data": {
      "text/plain": [
       "array(['mean radius', 'mean texture', 'mean perimeter', 'mean area',\n",
       "       'mean smoothness', 'mean compactness', 'mean concavity',\n",
       "       'mean concave points', 'mean symmetry', 'mean fractal dimension',\n",
       "       'radius error', 'texture error', 'perimeter error', 'area error',\n",
       "       'smoothness error', 'compactness error', 'concavity error',\n",
       "       'concave points error', 'symmetry error',\n",
       "       'fractal dimension error', 'worst radius', 'worst texture',\n",
       "       'worst perimeter', 'worst area', 'worst smoothness',\n",
       "       'worst compactness', 'worst concavity', 'worst concave points',\n",
       "       'worst symmetry', 'worst fractal dimension'], dtype='<U23')"
      ]
     },
     "execution_count": 3,
     "metadata": {},
     "output_type": "execute_result"
    }
   ],
   "source": [
    "dataset.feature_names"
   ]
  },
  {
   "cell_type": "code",
   "execution_count": 4,
   "id": "db1fdf18",
   "metadata": {},
   "outputs": [
    {
     "data": {
      "text/plain": [
       "array(['malignant', 'benign'], dtype='<U9')"
      ]
     },
     "execution_count": 4,
     "metadata": {},
     "output_type": "execute_result"
    }
   ],
   "source": [
    "dataset.target_names"
   ]
  },
  {
   "cell_type": "code",
   "execution_count": 5,
   "id": "5af3b8f2",
   "metadata": {},
   "outputs": [],
   "source": [
    "# split test train\n",
    "X_train, X_test, y_train, y_test = train_test_split(dataset.data, dataset.target, test_size=0.2, random_state=42)"
   ]
  },
  {
   "cell_type": "code",
   "execution_count": 6,
   "id": "273d0a39",
   "metadata": {},
   "outputs": [],
   "source": [
    "# scale the X values of the dataset\n",
    "scaler = StandardScaler()\n",
    "X_train = scaler.fit_transform(X_train) # 'fit' stats.. mean, etc. then 'transform'\n",
    "X_test = scaler.transform(X_test) # uses previous 'fit' for this test set, and 'transforms'"
   ]
  },
  {
   "cell_type": "code",
   "execution_count": 68,
   "id": "f550ea6f",
   "metadata": {},
   "outputs": [],
   "source": [
    "#\n",
    "# move ndarray to tensors\n",
    "#\n",
    "X_train_tensor = torch.tensor(X_train, dtype=torch.float32)\n",
    "y_train_tensor = torch.tensor(y_train, dtype=torch.float32).view(-1,1)\n",
    "\n",
    "X_test_tensor = torch.tensor(X_test, dtype=torch.float32)\n",
    "y_test_tensor = torch.tensor(y_test, dtype=torch.float32).view(-1,1)"
   ]
  },
  {
   "cell_type": "markdown",
   "id": "7606bcc1",
   "metadata": {},
   "source": [
    "## Step 2: define the model\n",
    "\n",
    "do this with torch"
   ]
  },
  {
   "cell_type": "code",
   "execution_count": 63,
   "id": "0d17886e",
   "metadata": {},
   "outputs": [],
   "source": [
    "import torch\n",
    "\n",
    "import torch.nn.functional as F # if want functional API\n",
    "import torch.nn as nn           # if want module API\n",
    "import torch.optim as optim"
   ]
  },
  {
   "cell_type": "code",
   "execution_count": 64,
   "id": "0efe57e2",
   "metadata": {},
   "outputs": [],
   "source": [
    "class LogisticRegressionModel(torch.nn.Module):\n",
    "    \n",
    "    def __init__(self, num_features):\n",
    "        \n",
    "        super(LogisticRegressionModel, self).__init__()         # calls init function of nn.module\n",
    "        self.linear_combination = nn.Linear(num_features, 1) # 1 output node\n",
    "        \n",
    "        # explicitly init weights as zero \n",
    "        # torch.nn.Linear by default set them to small, random numbers\n",
    "        self.linear_combination.weight.detach().zero_()\n",
    "        self.linear_combination.bias.detach().zero_()\n",
    "        \n",
    "        \n",
    "    def forward(self, x):\n",
    "        \n",
    "        out = self.linear_combination(x)               # weighted sum\n",
    "        posterior_probabilities = torch.sigmoid(out)   # p(x) = a = sigmoid(x) = h(x)\n",
    "        \n",
    "        return posterior_probabilities"
   ]
  },
  {
   "cell_type": "markdown",
   "id": "0d72af2a",
   "metadata": {},
   "source": [
    "## Step 3: Loop for train the model"
   ]
  },
  {
   "cell_type": "markdown",
   "id": "dc5435ad",
   "metadata": {},
   "source": [
    "$$ \\ell = - \\sum_{i=1}^{n} y_i \\; log y_i + (1-y_i)log(1-y_i) $$\n",
    "\n",
    "We use _reduction='sum'_ because in our derivation we add left and right sides for NLL"
   ]
  },
  {
   "cell_type": "code",
   "execution_count": 70,
   "id": "f45e0c09",
   "metadata": {},
   "outputs": [
    {
     "data": {
      "text/plain": [
       "<torch._C.Generator at 0x7fcdda611bf0>"
      ]
     },
     "execution_count": 70,
     "metadata": {},
     "output_type": "execute_result"
    }
   ],
   "source": [
    "torch.manual_seed(42)"
   ]
  },
  {
   "cell_type": "code",
   "execution_count": 72,
   "id": "daf9b654",
   "metadata": {},
   "outputs": [
    {
     "data": {
      "text/plain": [
       "30"
      ]
     },
     "execution_count": 72,
     "metadata": {},
     "output_type": "execute_result"
    }
   ],
   "source": [
    "X_train.shape\n",
    "num_features = X_train.shape[1]\n",
    "num_features"
   ]
  },
  {
   "cell_type": "code",
   "execution_count": 80,
   "id": "3a0fe025",
   "metadata": {},
   "outputs": [],
   "source": [
    "model = LogisticRegressionModel(num_features)\n",
    "\n",
    "# Loss and solver\n",
    "criterion = nn.BCELoss()\n",
    "optimizer = torch.optim.SGD(model.parameters(), lr=0.001)"
   ]
  },
  {
   "cell_type": "code",
   "execution_count": 81,
   "id": "e546a38a",
   "metadata": {},
   "outputs": [],
   "source": [
    "def get_accuracy(y, y_hat):\n",
    "    predicted_labels = torch.where((y_hat > 0.5), 1, 0).view(-1)\n",
    "    accuracy = torch.sum(predicted_labels == y.view(-1)).float() / y.size(0)\n",
    "    \n",
    "    return accuracy"
   ]
  },
  {
   "cell_type": "code",
   "execution_count": 88,
   "id": "4110b5c8",
   "metadata": {},
   "outputs": [
    {
     "name": "stdout",
     "output_type": "stream",
     "text": [
      "Epoch [10/100], Loss: 0.5371\n",
      "Epoch [20/100], Loss: 0.5271\n",
      "Epoch [30/100], Loss: 0.5175\n",
      "Epoch [40/100], Loss: 0.5084\n",
      "Epoch [50/100], Loss: 0.4997\n",
      "Epoch [60/100], Loss: 0.4914\n",
      "Epoch [70/100], Loss: 0.4835\n",
      "Epoch [80/100], Loss: 0.4759\n",
      "Epoch [90/100], Loss: 0.4687\n",
      "Epoch [100/100], Loss: 0.4618\n",
      "\n",
      " Model params:\n",
      "\t Weights: Parameter containing:\n",
      "tensor([[-0.0536, -0.0325, -0.0544, -0.0514, -0.0269, -0.0415, -0.0490, -0.0572,\n",
      "         -0.0246,  0.0038, -0.0388,  0.0009, -0.0376, -0.0368,  0.0054, -0.0152,\n",
      "         -0.0125, -0.0257,  0.0012,  0.0005, -0.0575, -0.0370, -0.0578, -0.0537,\n",
      "         -0.0327, -0.0428, -0.0474, -0.0586, -0.0338, -0.0222]],\n",
      "       requires_grad=True)\n",
      "\t Bias: Parameter containing:\n",
      "tensor([0.0247], requires_grad=True)\n"
     ]
    }
   ],
   "source": [
    "# Main Loop\n",
    "\n",
    "num_epochs = 100\n",
    "for epoch in range(num_epochs):\n",
    "\n",
    "    # 1. forward pass, predict\n",
    "    posterior_probabilities = model(X_train_tensor)\n",
    "    loss = criterion(posterior_probabilities, y_train_tensor)\n",
    "    \n",
    "    # 2. backward, compute gradients\n",
    "    optimizer.zero_grad() # zero the gradient before you start next run\n",
    "    loss.backward()\n",
    "\n",
    "    # 3. update weights\n",
    "    optimizer.step()\n",
    "\n",
    "    \n",
    "    # Logging\n",
    "    if (epoch+1) % 10 == 0:\n",
    "        print(f'Epoch [{epoch+1}/{num_epochs}], Loss: {loss.item():.4f}')\n",
    "\n",
    "        \n",
    "print('\\n Model params:')\n",
    "print('\\t Weights: %s' % model.linear_combination.weight)\n",
    "print('\\t Bias: %s' % model.linear_combination.bias)"
   ]
  },
  {
   "cell_type": "markdown",
   "id": "fdff6e3d",
   "metadata": {},
   "source": [
    "## Step 4: Test"
   ]
  },
  {
   "cell_type": "code",
   "execution_count": 89,
   "id": "9e0aca09",
   "metadata": {},
   "outputs": [
    {
     "data": {
      "text/plain": [
       "LogisticRegressionModel(\n",
       "  (linear_combination): Linear(in_features=30, out_features=1, bias=True)\n",
       ")"
      ]
     },
     "execution_count": 89,
     "metadata": {},
     "output_type": "execute_result"
    }
   ],
   "source": [
    "# set the model into eval mode\n",
    "model.eval()"
   ]
  },
  {
   "cell_type": "code",
   "execution_count": 92,
   "id": "1881b64d",
   "metadata": {},
   "outputs": [],
   "source": [
    "# predict but using no_grad\n",
    "with torch.no_grad():\n",
    "    y_pred_posterior = model(X_test_tensor)\n",
    "    y_pred = torch.round(y_pred_posterior)     # convert decimal to integer for class label"
   ]
  },
  {
   "cell_type": "markdown",
   "id": "a756e934",
   "metadata": {},
   "source": [
    "## Step 5: Evaluate the model"
   ]
  },
  {
   "cell_type": "code",
   "execution_count": 94,
   "id": "8ad7daba",
   "metadata": {},
   "outputs": [
    {
     "ename": "AttributeError",
     "evalue": "'numpy.ndarray' object has no attribute 'np'",
     "output_type": "error",
     "traceback": [
      "\u001b[0;31m---------------------------------------------------------------------------\u001b[0m",
      "\u001b[0;31mAttributeError\u001b[0m                            Traceback (most recent call last)",
      "\u001b[0;32m/var/folders/c7/k2fcvfxj5610zmlmq4sn39z00000gn/T/ipykernel_76908/2400932568.py\u001b[0m in \u001b[0;36m<module>\u001b[0;34m\u001b[0m\n\u001b[1;32m      1\u001b[0m \u001b[0;31m# convert to numpy for charting\u001b[0m\u001b[0;34m\u001b[0m\u001b[0;34m\u001b[0m\u001b[0m\n\u001b[0;32m----> 2\u001b[0;31m \u001b[0my_pred\u001b[0m \u001b[0;34m=\u001b[0m \u001b[0my_pred\u001b[0m\u001b[0;34m.\u001b[0m\u001b[0mnp\u001b[0m\u001b[0;34m(\u001b[0m\u001b[0;34m)\u001b[0m\u001b[0;34m\u001b[0m\u001b[0;34m\u001b[0m\u001b[0m\n\u001b[0m\u001b[1;32m      3\u001b[0m \u001b[0my_test\u001b[0m \u001b[0;34m=\u001b[0m \u001b[0my_test\u001b[0m\u001b[0;34m.\u001b[0m\u001b[0mnp\u001b[0m\u001b[0;34m(\u001b[0m\u001b[0;34m)\u001b[0m\u001b[0;34m\u001b[0m\u001b[0;34m\u001b[0m\u001b[0m\n",
      "\u001b[0;31mAttributeError\u001b[0m: 'numpy.ndarray' object has no attribute 'np'"
     ]
    }
   ],
   "source": [
    "# convert to numpy for charting\n",
    "y_pred = y_pred.np()\n",
    "y_test = y_test.np()"
   ]
  },
  {
   "cell_type": "code",
   "execution_count": 95,
   "id": "71a9c641",
   "metadata": {},
   "outputs": [],
   "source": [
    "from sklearn.metrics import classification_report"
   ]
  },
  {
   "cell_type": "code",
   "execution_count": 96,
   "id": "3182e82b",
   "metadata": {},
   "outputs": [
    {
     "name": "stdout",
     "output_type": "stream",
     "text": [
      "              precision    recall  f1-score   support\n",
      "\n",
      "           0       0.95      0.95      0.95        43\n",
      "           1       0.97      0.97      0.97        71\n",
      "\n",
      "    accuracy                           0.96       114\n",
      "   macro avg       0.96      0.96      0.96       114\n",
      "weighted avg       0.96      0.96      0.96       114\n",
      "\n"
     ]
    }
   ],
   "source": [
    "print(classification_report(y_test, y_pred))"
   ]
  },
  {
   "cell_type": "code",
   "execution_count": null,
   "id": "0903bf77",
   "metadata": {},
   "outputs": [],
   "source": []
  }
 ],
 "metadata": {
  "kernelspec": {
   "display_name": "Python 3 (ipykernel)",
   "language": "python",
   "name": "python3"
  },
  "language_info": {
   "codemirror_mode": {
    "name": "ipython",
    "version": 3
   },
   "file_extension": ".py",
   "mimetype": "text/x-python",
   "name": "python",
   "nbconvert_exporter": "python",
   "pygments_lexer": "ipython3",
   "version": "3.9.13"
  }
 },
 "nbformat": 4,
 "nbformat_minor": 5
}
